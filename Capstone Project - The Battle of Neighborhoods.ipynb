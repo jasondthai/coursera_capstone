{
    "cells": [
        {
            "cell_type": "markdown",
            "metadata": {
                "collapsed": true
            },
            "source": "# Coursera Capstone - How Red and Blue Cities Compare in Terms of Interest"
        },
        {
            "cell_type": "markdown",
            "metadata": {},
            "source": "### 1. Introduction/Business Problem"
        },
        {
            "cell_type": "markdown",
            "metadata": {},
            "source": "#instructions\n\nClearly define a problem or an idea of your choice, where you would need to leverage the Foursquare location data to solve or execute. Remember that data science problems always target an audience and are meant to help a group of stakeholders solve a problem, so make sure that you explicitly describe your audience and why they would care about your problem.\n\nThis submission will eventually become your Introduction/Business Problem section in your final report. So I recommend that you push the report (having your Introduction/Business Problem section only for now) to your Github repository and submit a link to it."
        },
        {
            "cell_type": "markdown",
            "metadata": {},
            "source": "### a. Problem / Idea"
        },
        {
            "cell_type": "markdown",
            "metadata": {},
            "source": "Recently, there's been incredible political discourse in the U.S.  Pitted on one side are call it red states & cities / conversatives.  On the other are blue states & cities and liberals.  With so much discourse, it suggests a fractured country.  With that, my hypothesis is that the country is more similiar than different.  I intend to leverage data science and machine learning to validate or invalidate this hypothesis.\n\nI intend to analyze the venues that most often show up in the top liberal and conservative cities.  For this data, I'll leverage the FourSquare API.  From there, we can group together similiar cities (based on frequency of venues).  This may give us insight how political leanings may or may not interset with the types of businesses that show up in each respective area."
        },
        {
            "cell_type": "markdown",
            "metadata": {},
            "source": "### b. Audience"
        },
        {
            "cell_type": "markdown",
            "metadata": {},
            "source": "The target audience is those interested in how politics.  Specifically those interested in learning how political leanings may influence socio trends or vice versa.\n\nThis audience will be interested in this given the incredible recent political discourse and the upcoming election.  In addition, they'll be interested to learn more about how political learnings are manifested or manifiest socio-economically."
        },
        {
            "cell_type": "markdown",
            "metadata": {},
            "source": "### 2. Data Section"
        },
        {
            "cell_type": "markdown",
            "metadata": {},
            "source": "#instructions\n\nDescribe the data that you will be using to solve the problem or execute your idea. Remember that you will need to use the Foursquare location data to solve the problem or execute your idea. You can absolutely use other datasets in combination with the Foursquare location data. So make sure that you provide adequate explanation and discussion, with examples, of the data that you will be using, even if it is only Foursquare location data.\n\nThis submission will eventually become your Data section in your final report. So I recommend that you push the report (having your Data section) to your Github repository and submit a link to it."
        },
        {
            "cell_type": "markdown",
            "metadata": {},
            "source": "### a. Data to be Utilized"
        },
        {
            "cell_type": "markdown",
            "metadata": {},
            "source": "1. I'll need information on the largest liberal and converative cities.  For that, I'll utilized the data in this article: https://www.vox.com/xpress/2014/8/9/5983959/the-most-liberal-and-conservative-big-cities-in-america-in-one-chart.  Unfortunately, the listing is an image, so I'll need to reconstruct manually into a table.\n2. I'll need geolocation data for the center point of each city.  I'm thinking of utilizing Nominatim to fetch this information.\n3. To get venue information, I plan to pull from the FourSquare API.  I'll use the geolocation information in #2 to pull the data for each city.  Specifically, I'll be utilizing the venues call in the API.  With that, sample data I'll get will include the category of the business - for example, yoga sudios, accessory stores, aiports, train stations, restaurants.  Features I'll be able to attract include frequency of categories.\n4. Once I've organized the venue information by frequency per city, I'll use K-Means to group together similar cities."
        },
        {
            "cell_type": "code",
            "execution_count": null,
            "metadata": {},
            "outputs": [],
            "source": ""
        }
    ],
    "metadata": {
        "kernelspec": {
            "display_name": "Python 3.6",
            "language": "python",
            "name": "python3"
        },
        "language_info": {
            "codemirror_mode": {
                "name": "ipython",
                "version": 3
            },
            "file_extension": ".py",
            "mimetype": "text/x-python",
            "name": "python",
            "nbconvert_exporter": "python",
            "pygments_lexer": "ipython3",
            "version": "3.6.9"
        }
    },
    "nbformat": 4,
    "nbformat_minor": 1
}